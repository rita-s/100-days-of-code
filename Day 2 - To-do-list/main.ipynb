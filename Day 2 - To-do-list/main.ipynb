{
 "cells": [
  {
   "cell_type": "code",
   "execution_count": 2,
   "metadata": {},
   "outputs": [
    {
     "name": "stdout",
     "output_type": "stream",
     "text": [
      "\n",
      "1. View tasks\n",
      "2. Add task\n",
      "3. Remove task\n",
      "4. Quit\n",
      "'Learn Python' has been added to your tasks.\n",
      "\n",
      "1. View tasks\n",
      "2. Add task\n",
      "3. Remove task\n",
      "4. Quit\n",
      "\n",
      "Here are your tasks:\n",
      "Learn Python\n",
      "\n",
      "1. View tasks\n",
      "2. Add task\n",
      "3. Remove task\n",
      "4. Quit\n",
      "\n",
      "Goodbye!\n"
     ]
    }
   ],
   "source": [
    "tasks = []\n",
    "\n",
    "while True:\n",
    "    print(\"\\n1. View tasks\")\n",
    "    print(\"2. Add task\")\n",
    "    print(\"3. Remove task\")\n",
    "    print(\"4. Quit\")\n",
    "\n",
    "    action = input(\"\\nWhat would you like to do? \")\n",
    "\n",
    "    if action == '1':\n",
    "        if tasks:\n",
    "            print(\"\\nHere are your tasks:\")\n",
    "            for task in tasks:\n",
    "                print(task)\n",
    "        else:\n",
    "            print(\"\\nYour task list is empty.\")\n",
    "\n",
    "    elif action == '2':\n",
    "        new_task = input(\"\\nType a task to add: \")\n",
    "        tasks.append(new_task)\n",
    "        print(f\"'{new_task}' has been added to your tasks.\")\n",
    "\n",
    "    elif action == '3':\n",
    "        remove_task = input(\"\\nType the exact task to remove: \")\n",
    "        if remove_task in tasks:\n",
    "            tasks.remove(remove_task)\n",
    "            print(f\"'{remove_task}' has been removed from your tasks.\")\n",
    "        else:\n",
    "            print(f\"\\n'{remove_task}' is not in your task list.\")\n",
    "\n",
    "    elif action == '4':\n",
    "        print(\"\\nGoodbye!\")\n",
    "        break\n",
    "\n",
    "    else:\n",
    "        print(\"\\nInvalid action, try again.\")\n"
   ]
  },
  {
   "cell_type": "code",
   "execution_count": null,
   "metadata": {},
   "outputs": [],
   "source": []
  }
 ],
 "metadata": {
  "kernelspec": {
   "display_name": "Python 3",
   "language": "python",
   "name": "python3"
  },
  "language_info": {
   "codemirror_mode": {
    "name": "ipython",
    "version": 3
   },
   "file_extension": ".py",
   "mimetype": "text/x-python",
   "name": "python",
   "nbconvert_exporter": "python",
   "pygments_lexer": "ipython3",
   "version": "3.9.6"
  },
  "orig_nbformat": 4
 },
 "nbformat": 4,
 "nbformat_minor": 2
}
